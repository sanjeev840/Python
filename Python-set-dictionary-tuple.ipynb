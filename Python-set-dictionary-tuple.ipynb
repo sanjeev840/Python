{
 "cells": [
  {
   "cell_type": "markdown",
   "id": "7571ff8a",
   "metadata": {
    "_cell_guid": "b1076dfc-b9ad-4769-8c92-a6c4dae69d19",
    "_uuid": "8f2839f25d086af736a60e9eeb907d3b93b6e0e5",
    "papermill": {
     "duration": 0.005105,
     "end_time": "2025-07-15T07:44:13.292895",
     "exception": false,
     "start_time": "2025-07-15T07:44:13.287790",
     "status": "completed"
    },
    "tags": []
   },
   "source": [
    "**Python - SET**"
   ]
  },
  {
   "cell_type": "code",
   "execution_count": 1,
   "id": "aca85e45",
   "metadata": {
    "execution": {
     "iopub.execute_input": "2025-07-15T07:44:13.303462Z",
     "iopub.status.busy": "2025-07-15T07:44:13.302922Z",
     "iopub.status.idle": "2025-07-15T07:44:13.312050Z",
     "shell.execute_reply": "2025-07-15T07:44:13.311274Z"
    },
    "papermill": {
     "duration": 0.015797,
     "end_time": "2025-07-15T07:44:13.313576",
     "exception": false,
     "start_time": "2025-07-15T07:44:13.297779",
     "status": "completed"
    },
    "tags": []
   },
   "outputs": [],
   "source": [
    "set1= set()"
   ]
  },
  {
   "cell_type": "code",
   "execution_count": 2,
   "id": "0edfc3c7",
   "metadata": {
    "execution": {
     "iopub.execute_input": "2025-07-15T07:44:13.323727Z",
     "iopub.status.busy": "2025-07-15T07:44:13.323081Z",
     "iopub.status.idle": "2025-07-15T07:44:13.328700Z",
     "shell.execute_reply": "2025-07-15T07:44:13.327644Z"
    },
    "papermill": {
     "duration": 0.012016,
     "end_time": "2025-07-15T07:44:13.329978",
     "exception": false,
     "start_time": "2025-07-15T07:44:13.317962",
     "status": "completed"
    },
    "tags": []
   },
   "outputs": [
    {
     "name": "stdout",
     "output_type": "stream",
     "text": [
      "set()\n",
      "<class 'set'>\n"
     ]
    }
   ],
   "source": [
    "print(set1)\n",
    "print(type(set1))"
   ]
  },
  {
   "cell_type": "code",
   "execution_count": 3,
   "id": "06772ae4",
   "metadata": {
    "execution": {
     "iopub.execute_input": "2025-07-15T07:44:13.340060Z",
     "iopub.status.busy": "2025-07-15T07:44:13.339711Z",
     "iopub.status.idle": "2025-07-15T07:44:13.344408Z",
     "shell.execute_reply": "2025-07-15T07:44:13.343588Z"
    },
    "papermill": {
     "duration": 0.011073,
     "end_time": "2025-07-15T07:44:13.345646",
     "exception": false,
     "start_time": "2025-07-15T07:44:13.334573",
     "status": "completed"
    },
    "tags": []
   },
   "outputs": [],
   "source": [
    "set2 = {\"A\", \"B\", \"C\"}\n",
    "set3 = {\"A\", \"B\", \"C\", \"G\"}"
   ]
  },
  {
   "cell_type": "code",
   "execution_count": 4,
   "id": "c1891d67",
   "metadata": {
    "execution": {
     "iopub.execute_input": "2025-07-15T07:44:13.355995Z",
     "iopub.status.busy": "2025-07-15T07:44:13.355101Z",
     "iopub.status.idle": "2025-07-15T07:44:13.362028Z",
     "shell.execute_reply": "2025-07-15T07:44:13.361232Z"
    },
    "papermill": {
     "duration": 0.013669,
     "end_time": "2025-07-15T07:44:13.363631",
     "exception": false,
     "start_time": "2025-07-15T07:44:13.349962",
     "status": "completed"
    },
    "tags": []
   },
   "outputs": [
    {
     "name": "stdout",
     "output_type": "stream",
     "text": [
      "{'A', 'B', 'C'}\n",
      "{'G', 'A', 'B', 'C'}\n"
     ]
    },
    {
     "data": {
      "text/plain": [
       "{'G'}"
      ]
     },
     "execution_count": 4,
     "metadata": {},
     "output_type": "execute_result"
    }
   ],
   "source": [
    "print(set2)\n",
    "print(set3)\n",
    "\n",
    "## Difference\n",
    "set3.difference(set2)"
   ]
  },
  {
   "cell_type": "code",
   "execution_count": 5,
   "id": "646b311c",
   "metadata": {
    "execution": {
     "iopub.execute_input": "2025-07-15T07:44:13.379963Z",
     "iopub.status.busy": "2025-07-15T07:44:13.379689Z",
     "iopub.status.idle": "2025-07-15T07:44:13.385051Z",
     "shell.execute_reply": "2025-07-15T07:44:13.384153Z"
    },
    "papermill": {
     "duration": 0.014788,
     "end_time": "2025-07-15T07:44:13.386477",
     "exception": false,
     "start_time": "2025-07-15T07:44:13.371689",
     "status": "completed"
    },
    "tags": []
   },
   "outputs": [
    {
     "data": {
      "text/plain": [
       "set()"
      ]
     },
     "execution_count": 5,
     "metadata": {},
     "output_type": "execute_result"
    }
   ],
   "source": [
    "set2.difference(set3)"
   ]
  },
  {
   "cell_type": "markdown",
   "id": "7cc530b2",
   "metadata": {
    "papermill": {
     "duration": 0.004196,
     "end_time": "2025-07-15T07:44:13.395288",
     "exception": false,
     "start_time": "2025-07-15T07:44:13.391092",
     "status": "completed"
    },
    "tags": []
   },
   "source": [
    "**DICTIONARY**"
   ]
  },
  {
   "cell_type": "code",
   "execution_count": 6,
   "id": "c95e1bfb",
   "metadata": {
    "execution": {
     "iopub.execute_input": "2025-07-15T07:44:13.406447Z",
     "iopub.status.busy": "2025-07-15T07:44:13.405595Z",
     "iopub.status.idle": "2025-07-15T07:44:13.409905Z",
     "shell.execute_reply": "2025-07-15T07:44:13.409140Z"
    },
    "papermill": {
     "duration": 0.01087,
     "end_time": "2025-07-15T07:44:13.411222",
     "exception": false,
     "start_time": "2025-07-15T07:44:13.400352",
     "status": "completed"
    },
    "tags": []
   },
   "outputs": [],
   "source": [
    "my_dict = {}"
   ]
  },
  {
   "cell_type": "code",
   "execution_count": 7,
   "id": "987dccbe",
   "metadata": {
    "execution": {
     "iopub.execute_input": "2025-07-15T07:44:13.422083Z",
     "iopub.status.busy": "2025-07-15T07:44:13.421283Z",
     "iopub.status.idle": "2025-07-15T07:44:13.426440Z",
     "shell.execute_reply": "2025-07-15T07:44:13.425503Z"
    },
    "papermill": {
     "duration": 0.011993,
     "end_time": "2025-07-15T07:44:13.427774",
     "exception": false,
     "start_time": "2025-07-15T07:44:13.415781",
     "status": "completed"
    },
    "tags": []
   },
   "outputs": [
    {
     "name": "stdout",
     "output_type": "stream",
     "text": [
      "<class 'dict'>\n"
     ]
    }
   ],
   "source": [
    "print(type(my_dict))"
   ]
  },
  {
   "cell_type": "code",
   "execution_count": 8,
   "id": "e8db8828",
   "metadata": {
    "execution": {
     "iopub.execute_input": "2025-07-15T07:44:13.438253Z",
     "iopub.status.busy": "2025-07-15T07:44:13.437864Z",
     "iopub.status.idle": "2025-07-15T07:44:13.442518Z",
     "shell.execute_reply": "2025-07-15T07:44:13.441695Z"
    },
    "papermill": {
     "duration": 0.011555,
     "end_time": "2025-07-15T07:44:13.443923",
     "exception": false,
     "start_time": "2025-07-15T07:44:13.432368",
     "status": "completed"
    },
    "tags": []
   },
   "outputs": [],
   "source": [
    "## Defining a dictionary\n",
    "my_dict = {'car1': 'AUDI', 'car2': \"BMW\", 'car3': 'HONDA'}"
   ]
  },
  {
   "cell_type": "code",
   "execution_count": 9,
   "id": "0e3217d6",
   "metadata": {
    "execution": {
     "iopub.execute_input": "2025-07-15T07:44:13.454669Z",
     "iopub.status.busy": "2025-07-15T07:44:13.453900Z",
     "iopub.status.idle": "2025-07-15T07:44:13.461240Z",
     "shell.execute_reply": "2025-07-15T07:44:13.460327Z"
    },
    "papermill": {
     "duration": 0.014388,
     "end_time": "2025-07-15T07:44:13.462966",
     "exception": false,
     "start_time": "2025-07-15T07:44:13.448578",
     "status": "completed"
    },
    "tags": []
   },
   "outputs": [
    {
     "name": "stdout",
     "output_type": "stream",
     "text": [
      "{'car1': 'AUDI', 'car2': 'BMW', 'car3': 'HONDA'}\n"
     ]
    },
    {
     "data": {
      "text/plain": [
       "'AUDI'"
      ]
     },
     "execution_count": 9,
     "metadata": {},
     "output_type": "execute_result"
    }
   ],
   "source": [
    "### to access the value of a key\n",
    "print(my_dict)\n",
    "my_dict['car1']"
   ]
  },
  {
   "cell_type": "code",
   "execution_count": 10,
   "id": "af83d46d",
   "metadata": {
    "execution": {
     "iopub.execute_input": "2025-07-15T07:44:13.477804Z",
     "iopub.status.busy": "2025-07-15T07:44:13.477513Z",
     "iopub.status.idle": "2025-07-15T07:44:13.482446Z",
     "shell.execute_reply": "2025-07-15T07:44:13.481464Z"
    },
    "papermill": {
     "duration": 0.012513,
     "end_time": "2025-07-15T07:44:13.483819",
     "exception": false,
     "start_time": "2025-07-15T07:44:13.471306",
     "status": "completed"
    },
    "tags": []
   },
   "outputs": [
    {
     "name": "stdout",
     "output_type": "stream",
     "text": [
      "car1\n",
      "car2\n",
      "car3\n"
     ]
    }
   ],
   "source": [
    "### to access the keys in a dictionary\n",
    "for x in my_dict:\n",
    "    print(x)"
   ]
  },
  {
   "cell_type": "code",
   "execution_count": 11,
   "id": "052983ac",
   "metadata": {
    "execution": {
     "iopub.execute_input": "2025-07-15T07:44:13.494665Z",
     "iopub.status.busy": "2025-07-15T07:44:13.494053Z",
     "iopub.status.idle": "2025-07-15T07:44:13.498766Z",
     "shell.execute_reply": "2025-07-15T07:44:13.497748Z"
    },
    "papermill": {
     "duration": 0.011417,
     "end_time": "2025-07-15T07:44:13.500041",
     "exception": false,
     "start_time": "2025-07-15T07:44:13.488624",
     "status": "completed"
    },
    "tags": []
   },
   "outputs": [
    {
     "name": "stdout",
     "output_type": "stream",
     "text": [
      "AUDI\n",
      "BMW\n",
      "HONDA\n"
     ]
    }
   ],
   "source": [
    "### to access the values in a dictionary\n",
    "for y in my_dict.values():\n",
    "    print(y)"
   ]
  },
  {
   "cell_type": "code",
   "execution_count": 12,
   "id": "46f025e1",
   "metadata": {
    "execution": {
     "iopub.execute_input": "2025-07-15T07:44:13.510250Z",
     "iopub.status.busy": "2025-07-15T07:44:13.509949Z",
     "iopub.status.idle": "2025-07-15T07:44:13.514476Z",
     "shell.execute_reply": "2025-07-15T07:44:13.513585Z"
    },
    "papermill": {
     "duration": 0.011154,
     "end_time": "2025-07-15T07:44:13.515855",
     "exception": false,
     "start_time": "2025-07-15T07:44:13.504701",
     "status": "completed"
    },
    "tags": []
   },
   "outputs": [
    {
     "name": "stdout",
     "output_type": "stream",
     "text": [
      "('car1', 'AUDI')\n",
      "('car2', 'BMW')\n",
      "('car3', 'HONDA')\n"
     ]
    }
   ],
   "source": [
    "### to access the keys and values in a dictionary\n",
    "for z in my_dict.items():\n",
    "    print(z)"
   ]
  },
  {
   "cell_type": "code",
   "execution_count": 13,
   "id": "649f8f24",
   "metadata": {
    "execution": {
     "iopub.execute_input": "2025-07-15T07:44:13.533026Z",
     "iopub.status.busy": "2025-07-15T07:44:13.532450Z",
     "iopub.status.idle": "2025-07-15T07:44:13.537031Z",
     "shell.execute_reply": "2025-07-15T07:44:13.536301Z"
    },
    "papermill": {
     "duration": 0.014267,
     "end_time": "2025-07-15T07:44:13.538655",
     "exception": false,
     "start_time": "2025-07-15T07:44:13.524388",
     "status": "completed"
    },
    "tags": []
   },
   "outputs": [
    {
     "name": "stdout",
     "output_type": "stream",
     "text": [
      "{'car1': 'AUDI', 'car2': 'BMW', 'car3': 'HONDA', 'car4': 'KIA'}\n",
      "car1\n",
      "car2\n",
      "car3\n",
      "car4\n"
     ]
    }
   ],
   "source": [
    "### Adding item in a dictionary\n",
    "my_dict['car4'] = 'KIA'\n",
    "\n",
    "print(my_dict)\n",
    "for d in my_dict:\n",
    "    print(d)"
   ]
  },
  {
   "cell_type": "markdown",
   "id": "007be940",
   "metadata": {
    "papermill": {
     "duration": 0.00702,
     "end_time": "2025-07-15T07:44:13.554308",
     "exception": false,
     "start_time": "2025-07-15T07:44:13.547288",
     "status": "completed"
    },
    "tags": []
   },
   "source": [
    "**NESTED DICTIONARY**"
   ]
  },
  {
   "cell_type": "code",
   "execution_count": 14,
   "id": "e94d66ca",
   "metadata": {
    "execution": {
     "iopub.execute_input": "2025-07-15T07:44:13.565146Z",
     "iopub.status.busy": "2025-07-15T07:44:13.564873Z",
     "iopub.status.idle": "2025-07-15T07:44:13.569079Z",
     "shell.execute_reply": "2025-07-15T07:44:13.568384Z"
    },
    "papermill": {
     "duration": 0.011184,
     "end_time": "2025-07-15T07:44:13.570459",
     "exception": false,
     "start_time": "2025-07-15T07:44:13.559275",
     "status": "completed"
    },
    "tags": []
   },
   "outputs": [],
   "source": [
    "car1_model = {\"BMW\": 1980}\n",
    "car2_model = {\"AUDI\": 1990}\n",
    "car3_model = {\"KIA\": 2000}\n",
    "car_type = {'car1': car1_model, 'car2': car2_model, 'car3': car3_model}"
   ]
  },
  {
   "cell_type": "code",
   "execution_count": 15,
   "id": "e934a056",
   "metadata": {
    "execution": {
     "iopub.execute_input": "2025-07-15T07:44:13.581642Z",
     "iopub.status.busy": "2025-07-15T07:44:13.580787Z",
     "iopub.status.idle": "2025-07-15T07:44:13.586823Z",
     "shell.execute_reply": "2025-07-15T07:44:13.586042Z"
    },
    "papermill": {
     "duration": 0.012942,
     "end_time": "2025-07-15T07:44:13.588150",
     "exception": false,
     "start_time": "2025-07-15T07:44:13.575208",
     "status": "completed"
    },
    "tags": []
   },
   "outputs": [
    {
     "data": {
      "text/plain": [
       "{'car1': {'BMW': 1980}, 'car2': {'AUDI': 1990}, 'car3': {'KIA': 2000}}"
      ]
     },
     "execution_count": 15,
     "metadata": {},
     "output_type": "execute_result"
    }
   ],
   "source": [
    "car_type"
   ]
  },
  {
   "cell_type": "code",
   "execution_count": 16,
   "id": "7170600e",
   "metadata": {
    "execution": {
     "iopub.execute_input": "2025-07-15T07:44:13.601006Z",
     "iopub.status.busy": "2025-07-15T07:44:13.600735Z",
     "iopub.status.idle": "2025-07-15T07:44:13.606023Z",
     "shell.execute_reply": "2025-07-15T07:44:13.605261Z"
    },
    "papermill": {
     "duration": 0.012297,
     "end_time": "2025-07-15T07:44:13.607328",
     "exception": false,
     "start_time": "2025-07-15T07:44:13.595031",
     "status": "completed"
    },
    "tags": []
   },
   "outputs": [
    {
     "data": {
      "text/plain": [
       "{'BMW': 1980}"
      ]
     },
     "execution_count": 16,
     "metadata": {},
     "output_type": "execute_result"
    }
   ],
   "source": [
    "car_type['car1']"
   ]
  },
  {
   "cell_type": "code",
   "execution_count": 17,
   "id": "bfb2e7fc",
   "metadata": {
    "execution": {
     "iopub.execute_input": "2025-07-15T07:44:13.618503Z",
     "iopub.status.busy": "2025-07-15T07:44:13.618204Z",
     "iopub.status.idle": "2025-07-15T07:44:13.623888Z",
     "shell.execute_reply": "2025-07-15T07:44:13.622843Z"
    },
    "papermill": {
     "duration": 0.012835,
     "end_time": "2025-07-15T07:44:13.625264",
     "exception": false,
     "start_time": "2025-07-15T07:44:13.612429",
     "status": "completed"
    },
    "tags": []
   },
   "outputs": [
    {
     "data": {
      "text/plain": [
       "1980"
      ]
     },
     "execution_count": 17,
     "metadata": {},
     "output_type": "execute_result"
    }
   ],
   "source": [
    "car_type['car1']['BMW']"
   ]
  },
  {
   "cell_type": "markdown",
   "id": "c80ca4e5",
   "metadata": {
    "papermill": {
     "duration": 0.00477,
     "end_time": "2025-07-15T07:44:13.635391",
     "exception": false,
     "start_time": "2025-07-15T07:44:13.630621",
     "status": "completed"
    },
    "tags": []
   },
   "source": [
    "**TUPLES**"
   ]
  },
  {
   "cell_type": "code",
   "execution_count": 18,
   "id": "d1c75540",
   "metadata": {
    "execution": {
     "iopub.execute_input": "2025-07-15T07:44:13.646647Z",
     "iopub.status.busy": "2025-07-15T07:44:13.646390Z",
     "iopub.status.idle": "2025-07-15T07:44:13.650698Z",
     "shell.execute_reply": "2025-07-15T07:44:13.649868Z"
    },
    "papermill": {
     "duration": 0.011669,
     "end_time": "2025-07-15T07:44:13.652065",
     "exception": false,
     "start_time": "2025-07-15T07:44:13.640396",
     "status": "completed"
    },
    "tags": []
   },
   "outputs": [],
   "source": [
    "my_tuple = tuple()"
   ]
  },
  {
   "cell_type": "code",
   "execution_count": 19,
   "id": "d7efcd1a",
   "metadata": {
    "execution": {
     "iopub.execute_input": "2025-07-15T07:44:13.664413Z",
     "iopub.status.busy": "2025-07-15T07:44:13.663701Z",
     "iopub.status.idle": "2025-07-15T07:44:13.668994Z",
     "shell.execute_reply": "2025-07-15T07:44:13.668174Z"
    },
    "papermill": {
     "duration": 0.013058,
     "end_time": "2025-07-15T07:44:13.670576",
     "exception": false,
     "start_time": "2025-07-15T07:44:13.657518",
     "status": "completed"
    },
    "tags": []
   },
   "outputs": [
    {
     "data": {
      "text/plain": [
       "tuple"
      ]
     },
     "execution_count": 19,
     "metadata": {},
     "output_type": "execute_result"
    }
   ],
   "source": [
    "type(my_tuple)"
   ]
  },
  {
   "cell_type": "code",
   "execution_count": 20,
   "id": "061a42ad",
   "metadata": {
    "execution": {
     "iopub.execute_input": "2025-07-15T07:44:13.682363Z",
     "iopub.status.busy": "2025-07-15T07:44:13.681956Z",
     "iopub.status.idle": "2025-07-15T07:44:13.685857Z",
     "shell.execute_reply": "2025-07-15T07:44:13.685228Z"
    },
    "papermill": {
     "duration": 0.011272,
     "end_time": "2025-07-15T07:44:13.687103",
     "exception": false,
     "start_time": "2025-07-15T07:44:13.675831",
     "status": "completed"
    },
    "tags": []
   },
   "outputs": [],
   "source": [
    "my_tuple = (\"Ram\", \"Shyam\", \"Hari\")"
   ]
  },
  {
   "cell_type": "code",
   "execution_count": 21,
   "id": "1dedb7b2",
   "metadata": {
    "execution": {
     "iopub.execute_input": "2025-07-15T07:44:13.699029Z",
     "iopub.status.busy": "2025-07-15T07:44:13.698292Z",
     "iopub.status.idle": "2025-07-15T07:44:13.703484Z",
     "shell.execute_reply": "2025-07-15T07:44:13.702670Z"
    },
    "papermill": {
     "duration": 0.012515,
     "end_time": "2025-07-15T07:44:13.704858",
     "exception": false,
     "start_time": "2025-07-15T07:44:13.692343",
     "status": "completed"
    },
    "tags": []
   },
   "outputs": [
    {
     "data": {
      "text/plain": [
       "'Ram'"
      ]
     },
     "execution_count": 21,
     "metadata": {},
     "output_type": "execute_result"
    }
   ],
   "source": [
    "my_tuple[0]"
   ]
  },
  {
   "cell_type": "code",
   "execution_count": 22,
   "id": "1e41943f",
   "metadata": {
    "execution": {
     "iopub.execute_input": "2025-07-15T07:44:13.716782Z",
     "iopub.status.busy": "2025-07-15T07:44:13.716154Z",
     "iopub.status.idle": "2025-07-15T07:44:13.721165Z",
     "shell.execute_reply": "2025-07-15T07:44:13.720411Z"
    },
    "papermill": {
     "duration": 0.012325,
     "end_time": "2025-07-15T07:44:13.722533",
     "exception": false,
     "start_time": "2025-07-15T07:44:13.710208",
     "status": "completed"
    },
    "tags": []
   },
   "outputs": [
    {
     "data": {
      "text/plain": [
       "1"
      ]
     },
     "execution_count": 22,
     "metadata": {},
     "output_type": "execute_result"
    }
   ],
   "source": [
    "my_tuple.count(\"Ram\")"
   ]
  },
  {
   "cell_type": "code",
   "execution_count": 23,
   "id": "4b4c7884",
   "metadata": {
    "execution": {
     "iopub.execute_input": "2025-07-15T07:44:13.734601Z",
     "iopub.status.busy": "2025-07-15T07:44:13.733939Z",
     "iopub.status.idle": "2025-07-15T07:44:13.739426Z",
     "shell.execute_reply": "2025-07-15T07:44:13.738574Z"
    },
    "papermill": {
     "duration": 0.013002,
     "end_time": "2025-07-15T07:44:13.740859",
     "exception": false,
     "start_time": "2025-07-15T07:44:13.727857",
     "status": "completed"
    },
    "tags": []
   },
   "outputs": [
    {
     "data": {
      "text/plain": [
       "2"
      ]
     },
     "execution_count": 23,
     "metadata": {},
     "output_type": "execute_result"
    }
   ],
   "source": [
    "my_tuple.index(\"Hari\")"
   ]
  }
 ],
 "metadata": {
  "kaggle": {
   "accelerator": "none",
   "dataSources": [],
   "dockerImageVersionId": 31089,
   "isGpuEnabled": false,
   "isInternetEnabled": false,
   "language": "python",
   "sourceType": "notebook"
  },
  "kernelspec": {
   "display_name": "Python 3",
   "language": "python",
   "name": "python3"
  },
  "language_info": {
   "codemirror_mode": {
    "name": "ipython",
    "version": 3
   },
   "file_extension": ".py",
   "mimetype": "text/x-python",
   "name": "python",
   "nbconvert_exporter": "python",
   "pygments_lexer": "ipython3",
   "version": "3.11.13"
  },
  "papermill": {
   "default_parameters": {},
   "duration": 5.584379,
   "end_time": "2025-07-15T07:44:14.164693",
   "environment_variables": {},
   "exception": null,
   "input_path": "__notebook__.ipynb",
   "output_path": "__notebook__.ipynb",
   "parameters": {},
   "start_time": "2025-07-15T07:44:08.580314",
   "version": "2.6.0"
  }
 },
 "nbformat": 4,
 "nbformat_minor": 5
}
